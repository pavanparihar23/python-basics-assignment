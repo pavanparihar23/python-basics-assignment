{
  "nbformat": 4,
  "nbformat_minor": 0,
  "metadata": {
    "colab": {
      "provenance": [],
      "toc_visible": true
    },
    "kernelspec": {
      "name": "python3",
      "display_name": "Python 3"
    },
    "language_info": {
      "name": "python"
    }
  },
  "cells": [
    {
      "cell_type": "markdown",
      "source": [
        "Ques-1  what is python and why is it popular?\n",
        "\n",
        "Ans-1 Python is a high-level, interpreted programming language known for its simplicity, readability, and versatility.\n",
        "\n",
        " Key Features of Python:\n",
        "1.Readability and Simplicity: Python’s syntax is clean and intuitive, resembling natural language, which makes it a great choice for beginners in programming.\n",
        "\n",
        "2.Interpreted Language: Python code is executed line-by-line, making debugging easier and enabling rapid prototyping.\n",
        "\n",
        "3.Dynamically Typed: Python does not require declaring variable types explicitly. This makes development faster but can lead to runtime errors if not handled carefully.\n",
        "\n",
        "4.Extensive Standard Library: Python has a vast standard library that supports many tasks like web development, file I/O, system administration, and much more.\n",
        "\n",
        "5.Open Source: Python is freely available, and its source code can be modified or distributed.\n",
        "\n",
        ">Why Python is Popular:\n",
        "\n",
        "1.Ease of Learning: Python’s simple and readable syntax makes it one of the easiest languages to learn for beginners.\n",
        "\n",
        "2.Wide Range of Applications:\n",
        ".Web Development: With frameworks like Django and Flask, Python is widely used to build web applications.\n",
        ".Data Science & Machine Learning: Libraries like Pandas, NumPy, TensorFlow, and Scikit-learn have made Python the go-to language for data analysis, machine learning, and artificial intelligence.\n",
        ".Automation: Python is often used for scripting and automating repetitive tasks.\n",
        ".Game Development: Libraries like Pygame allow developers to create simple games.\n",
        "\n",
        "3.Community and Support: Python has a vast and active community, meaning developers have access to a wealth of tutorials, forums, and open-source projects to learn from and contribute to.\n",
        "\n",
        "4.Job Market: As the demand for web development, data science, and automation grows, Python developers are in high demand, leading to a strong job market and competitive salaries.\n",
        "\n",
        "  \n",
        "\n"
      ],
      "metadata": {
        "id": "_aCaOvcge4qJ"
      }
    },
    {
      "cell_type": "markdown",
      "source": [
        "Ques-2 What is an interpreter in Python?\n",
        "\n",
        "Ans-2 In Python, an interpreter is a program that reads and executes Python code line by line. Unlike a compiler, which translates the entire code into machine code before execution, an interpreter processes Python code directly and executes it in real time.\n",
        "\n",
        "\n"
      ],
      "metadata": {
        "id": "q20b9KX-k7yJ"
      }
    },
    {
      "cell_type": "markdown",
      "source": [
        "Ques-3 What are pre-defined keywords in Python?\n",
        "\n",
        "Ans-3 Here is a list of the keywords in Python:-\n",
        "\n",
        "false,none,true,as,and,assert,async,await,break,class,continue,def,del,elif,else,except,finally,for,from,global,if,import,in,is.lambda,nonlocal,not,or,pass,raise,return,try,while,with,yield."
      ],
      "metadata": {
        "id": "V9yJCuwbmtp-"
      }
    },
    {
      "cell_type": "markdown",
      "source": [
        "Ques-4 Can keywords be used as variable names?\n",
        "\n",
        "Ans-4  No, keywords in Python cannot be used as variable names, function names, or any other identifiers because they are reserved words with special meanings within the language's syntax. Using a keyword as an identifier will result in a SyntaxError."
      ],
      "metadata": {
        "id": "xHtUbL8dpDA9"
      }
    },
    {
      "cell_type": "markdown",
      "source": [
        "Ques-5 What is mutability in Python?\n",
        "\n",
        "Ans-5 In Python, mutability refers to whether an object can be modified after it is created. An object is considered mutable if its state or content can be changed after it is instantiated.\n",
        "\n",
        " Lists (list),\n",
        "Dictionaries (dict),\n",
        "Sets (set)"
      ],
      "metadata": {
        "id": "oPVgrGifqPti"
      }
    },
    {
      "cell_type": "markdown",
      "source": [
        "Ques-6 Why are lists mutable, but tuples are immutable?\n",
        "\n",
        "Ans-6 The distinction between mutable lists and immutable tuples in Python is largely due to the design choices that align with their intended uses, efficiency considerations, and the principles of Python’s data model.\n",
        "\n",
        "1. Use Case and Flexibility\n",
        ".Lists are intended to be dynamic, flexible collections of items that can grow or shrink over time. They are typically used when you need to frequently modify the collection (adding, removing, or changing elements). For example, a list might be used to store a collection of items where the contents can change throughout the program.\n",
        "\n",
        ".Tuples, on the other hand, are intended to represent fixed collections of items, where immutability provides a guarantee that the elements cannot be changed once defined. Tuples are often used to represent data that should remain constant, such as coordinates, records, or configurations that should not be modified.\n",
        "\n",
        "2. Memory Efficiency and Performance\n",
        ".Mutability in Lists: The ability to modify the contents of a list allows Python to efficiently handle changes in the list size. Lists are implemented with a dynamic array under the hood, meaning Python can resize the array when elements are added or removed. This dynamic resizing allows for flexible and efficient management of memory.\n",
        "\n",
        ".Immutability in Tuples: Tuples, being immutable, are implemented in a way that allows for more efficient memory usage. Since their size and contents are fixed once they are created, the underlying implementation can make use of optimizations like memory sharing. Immutable objects can be shared between parts of a program safely without worrying about unexpected modifications, reducing overhead and increasing performance in certain situations.\n",
        "\n",
        "The key benefit of immutable objects (like tuples) is that they can be hashable and used as keys in dictionaries or elements in sets. Lists, being mutable, are not hashable and cannot be used in these contexts.\n",
        "\n",
        "3. Data Integrity and Safety\n",
        ".Tuples as Immutable Containers: Immutability is particularly useful in situations where data integrity is important, such as when passing data between different parts of a program. If you want to ensure that a collection of values cannot be altered during the program's execution (e.g., when passing function arguments or returning multiple values from a function), a tuple provides a safe, unchangeable structure.\n",
        "\n",
        ".Lists as Mutable Containers: In contrast, lists are designed for use cases where modification is expected. For example, lists are commonly used for tasks like iterating through data and applying modifications to the collection. Lists are generally more flexible, but the downside is that they are prone to accidental changes, which can be risky in some contexts. This is why Python uses the convention of using immutable tuples when data should not change, and mutable lists when data is expected to change.\n",
        "\n",
        "4. Hashability and Dictionary Keys\n",
        ".Tuples are hashable, meaning they can be used as keys in a dictionary or as elements in a set. This is possible because once a tuple is created, its contents are guaranteed not to change, ensuring a consistent hash value.\n",
        ".Lists are not hashable, because allowing them to change would create inconsistency when they are used as dictionary keys or set elements. Since lists can change in size or content, Python cannot ensure their hash value remains stable over time.\n",
        "5. Python's Design Philosophy\n",
        "Python follows the principle of \"consenting adults\", meaning it provides flexibility and power to the programmer while also giving them the responsibility to avoid mistakes. Lists being mutable reflect Python’s emphasis on providing tools for practical and flexible programming. Tuples, on the other hand, represent a more functional-style of programming, where data is treated as immutable and treated more like a value than a reference that can change over time.\n",
        "6. Performance and Internal Representation\n",
        ".Lists require extra overhead to support their mutability (e.g., the ability to grow, shrink, and rearrange items). They are designed to be fast for certain use cases, especially when you need frequent updates, but they carry extra overhead to manage these changes.\n",
        ".Tuples are typically smaller in memory because they don't need the extra functionality that supports mutability. They can be packed into a smaller memory footprint, making them more lightweight when used in contexts where immutability is an advantage.\n",
        "Summary of Key Points:\n",
        ".Lists are mutable because they are designed for use cases where you need to frequently change the contents (adding, removing, or modifying elements).\n",
        ".Tuples are immutable to represent fixed collections of values, ensuring data integrity and supporting performance optimizations, including hashability (for use as dictionary keys or set elements).\n",
        ".Immutability in tuples allows Python to make memory optimizations, as immutable objects are more predictable and safe to share across different parts of a program.\n",
        "\n"
      ],
      "metadata": {
        "id": "OaF-D-d3to5C"
      }
    },
    {
      "cell_type": "markdown",
      "source": [
        "Ques-7 What is the difference between “==” and “is” operators in Python?\n",
        "\n",
        "Ans-7 In Python, the == and is operators are both used for comparison, but they serve different purposes and check different aspects of objects. Understanding the distinction between these operators is crucial for writing correct and efficient Python code.\n",
        "\n",
        "1. == (Equality Operator)\n",
        "The == operator checks whether the values of two objects are equal. It is used to compare the content of the objects, not their identity.\n",
        "\n",
        "Used for value comparison.\n",
        "It checks if the objects' values are the same, meaning it calls the __eq__() method of the objects being compared (if implemented) to determine equality.\n",
        "\n",
        "2. is (Identity Operator)\n",
        "The is operator checks whether two objects refer to the same location in memory, meaning it compares their identity rather than their values.\n",
        "\n",
        "Used for identity comparison.\n",
        "It checks if both operands refer to the same object in memory (i.e., if they have the same memory address).\n",
        "This is not about the content of the objects, but whether both variables point to the same object.\n",
        "\n",
        "Key Differences:-\n",
        "Operator:-\t    ==                          is\n",
        "\n",
        "Purpose:- Equality operator           Identity operator\n",
        "\n",
        "Compares:-Values of the objects   Memory location(wheather\n",
        "                                  two object are the same\n",
        "                                    objects in  memory\n",
        "      \n",
        "\n",
        " Use Case:-Check if two objects    Check if two variables\n",
        "           have the same value     point to the same object\n",
        "           and contents.           same object in memory.\n",
        "               \n",
        "\n"
      ],
      "metadata": {
        "id": "deRt4kKQwoQY"
      }
    },
    {
      "cell_type": "markdown",
      "source": [],
      "metadata": {
        "id": "XyzB3qoT-9M4"
      }
    },
    {
      "cell_type": "markdown",
      "source": [
        "Ques-8 What are logical operators in Python?\n",
        "\n",
        "Ans-8 logical operators are used to combine conditional statements and perform logical operations on Boolean values (True or False). These operators allow you to create more complex conditions by combining multiple expressions or conditions. Python has three main logical operators:\n",
        "\n",
        "1. and\n",
        "\n",
        "The and operator returns True if both conditions or expressions being compared are True. If either condition is False, the result is False.\n",
        "\n",
        "2. or\n",
        "\n",
        "The or operator returns True if at least one of the conditions or expressions being compared is True. It only returns False if both conditions are False.\n",
        "\n",
        "3. not\n",
        "\n",
        "The not operator is a logical negation operator. It inverts the Boolean value of an expression. If the condition is True, not makes it False, and if the condition is False, not makes it True..."
      ],
      "metadata": {
        "id": "xCao-be23aEC"
      }
    },
    {
      "cell_type": "markdown",
      "source": [
        "Ques-9  What is type casting in Python?\n",
        "\n",
        "Ans-9  Type casting in Python refers to the conversion of one data type to another. This is typically done when you need to perform operations on values of different types or when you want to ensure a value is treated as a specific type.\n",
        "\n",
        "There are two main types of type casting in Python:\n",
        "\n",
        "1. Implicit Type Casting (Type Coercion)\n",
        "\n",
        "This is automatically done by Python when it can safely convert one data type to another without losing any information. For example, Python will automatically convert integers to floats if needed.\n",
        "\n",
        "2. Explicit Type Casting (Type Conversion)\n",
        "In explicit type casting, you manually convert one type to another using Python's built-in functions such as int(), float(), str(), etc.\n",
        "\n",
        "Here are some common explicit type conversion functions:\n",
        "\n",
        "int(): Converts a value to an integer.\n",
        "float(): Converts a value to a floating-point number.\n",
        "str(): Converts a value to a string.\n",
        "list(): Converts an iterable  to a list."
      ],
      "metadata": {
        "id": "3cyfBiUV_H7m"
      }
    },
    {
      "cell_type": "markdown",
      "source": [
        "Ques-10  What is the difference between implicit and explicit type casting?\n",
        "\n",
        "Ans-10  The primary difference between implicit and explicit type casting in Python lies in how and when the conversion between data types occurs and who controls the conversion process.\n",
        "\n",
        "Here’s a breakdown of the differences:\n",
        "\n",
        "1. Implicit Type Casting\n",
        "\n",
        "Definition: Implicit type casting happens automatically by Python when it is safe to convert a value from one type to another. This occurs without the need for the programmer to manually specify the conversion.\n",
        "\n",
        "When it occurs: This happens when Python can automatically convert between types in an operation or expression without losing information or introducing errors.\n",
        "\n",
        "Who controls it: Python handles the conversion for you.\n",
        "\n",
        "Purpose: Implicit casting is typically done for compatibility or convenience during operations where types can be safely promoted without data loss.\n",
        "\n",
        "2. Explicit Type Casting\n",
        "\n",
        "Definition: Explicit type casting is when the programmer manually specifies how to convert a value from one type to another using built-in functions (e.g., int(), float(), str(), etc.).\n",
        "When it occurs: This occurs when you need to force a conversion between types. It is used when you know that the operation requires a specific type, or when you need to convert a value to a different type explicitly.\n",
        "\n",
        "Who controls it: The programmer is responsible for performing the conversion.\n",
        "\n",
        "Purpose: Explicit casting is usually needed when performing operations with data types that are incompatible or when working with different types, like strings and numbers, where the conversion is not automatic."
      ],
      "metadata": {
        "id": "bwXStQAaAd6X"
      }
    },
    {
      "cell_type": "markdown",
      "source": [
        "Ques-11  What is the purpose of conditional statements in Python?\n",
        "\n",
        "Ans-11 Conditional statements in Python are used to execute certain blocks of code based on whether a given condition or set of conditions is true or false. These statements allow the program to make decisions and alter its flow of execution depending on the situation. This makes the program dynamic and responsive to different inputs or conditions.\n",
        "\n",
        "The main purpose of conditional statements are:\n",
        "\n",
        "Decision Making: To evaluate conditions (like comparisons or boolean expressions) and run different sections of code based on the outcome.\n",
        "\n",
        "Flow Control: Conditional statements change the flow of execution depending on the truth or falsity of a condition. This helps to control which blocks of code are run and in which order.\n",
        "\n",
        "Error Handling and Validation: They help in validating user input, ensuring that only valid data is processed. If the data doesn't meet a required condition, the program can respond accordingly (e.g., asking the user to re-enter valid input or showing an error message).\n",
        "\n",
        "Types of Conditional Statements in Python:\n",
        "\n",
        "if statement: Runs a block of code if the condition is true.\n",
        "\n",
        "if-else statement: Runs one block of code if the condition is true, and another block if it is false.\n",
        "\n",
        "if-elif-else statement: Tests multiple conditions in sequence and executes the code associated with the first true condition.\n",
        "\n",
        "Nested if statements: Conditional statements inside other conditional statements to handle more complex conditions.\n"
      ],
      "metadata": {
        "id": "TQGFfGMkCIRg"
      }
    },
    {
      "cell_type": "markdown",
      "source": [
        "Ques-12 How does the elif statement work?\n",
        "\n",
        "Ans-12  The elif (short for \"else if\") statement in Python allows you to check multiple conditions sequentially, executing the code associated with the first condition that evaluates to True. It follows an if statement and provides additional conditions to test, making it an efficient way to handle multiple choices without nesting many if statements.\n",
        "\n",
        "How the elif Statement Works:\n",
        "\n",
        "Initial Condition (if): The if statement is evaluated first. If its condition is True, the associated block of code is executed, and the rest of the elif and else blocks are skipped.\n",
        "\n",
        "Subsequent Conditions (elif): If the if condition is False, Python checks the elif conditions, one by one, in order. The first elif that evaluates to True will execute its associated block of code, and the rest of the elif or else blocks are ignored.\n",
        "\n",
        "Fallback (else): If none of the if or elif conditions are True, the else block (if present) is executed."
      ],
      "metadata": {
        "id": "kcYCWX6WDcdg"
      }
    },
    {
      "cell_type": "markdown",
      "source": [
        "Ques-13 What is the difference between for and while loops?\n",
        "\n",
        "Ans-13 The primary difference between for and while loops in programming lies in how they control the iteration process:\n",
        "\n",
        "1. For Loop:\n",
        "Purpose: Used when the number of iterations is known beforehand or can be determined before entering the loop.\n",
        "Structure: It typically involves a counter or iterator that keeps track of the number of iterations.\n",
        "\n",
        "2. While Loop:\n",
        "Purpose: Used when the number of iterations is not known in advance and depends on a condition being true.\n",
        "Structure: It runs as long as a specific condition evaluates to True. The condition is checked before each iteration.\n",
        "\n",
        "Key Differences:\n",
        "Iteration Control:\n",
        "For loop: Iterates a fixed number of times (or through a known sequence).\n",
        "\n",
        "While loop: Iterates as long as the condition is True.\n",
        "Termination:\n",
        "\n",
        "For loop: Terminates automatically once it finishes the defined range or sequence.\n",
        "\n",
        "While loop: The condition must be manually controlled to ensure termination (otherwise, it can create an infinite loop).\n",
        "\n",
        "Initialization and update:\n",
        "For loop: Often handles initialization, condition checking, and updating the loop variable in one line.\n",
        "\n",
        "While loop: Only checks the condition and requires separate initialization and manual updating of loop variables."
      ],
      "metadata": {
        "id": "gVQ1fuoCEa0u"
      }
    },
    {
      "cell_type": "markdown",
      "source": [
        "Ques-14 Describe a scenario where a while loop is more suitable than a for loop.\n",
        "\n",
        "Ans-14 A while loop is more suitable than a for loop in scenarios where the number of iterations is not known in advance and depends on a dynamic condition that can change during the execution of the loop.\n",
        "\n",
        "Scenario: User Authentication System\n",
        "Imagine you are building a user authentication system where the user is prompted to enter their password. The system should allow the user to keep trying to enter the correct password until they succeed, or they exceed a maximum number of attempts. The number of attempts is unknown beforehand because it depends on how many times the user enters an incorrect password.\n",
        "\n",
        "Here, a while loop is ideal because the loop should continue as long as the user’s input is incorrect and until a condition is met (either correct password is entered or maximum attempts are reached). The number of iterations (password attempts) is not fixed beforehand.\n",
        "\n",
        "Why a while loop is more suitable:\n",
        "Dynamic Condition: The loop continues as long as the user has not entered the correct password and has not exceeded the maximum number of attempts. The number of iterations is determined by the user's actions and is not fixed.\n",
        "\n",
        "Termination by Condition: The loop ends when either the user enters the correct password or the number of attempts reaches the limit, which is a condition that may vary based on user behavior.\n",
        "\n",
        "A for loop would not be as suitable here because it requires a fixed number of iterations, which is not ideal when the number of iterations (password attempts) depends on user input and could be different each time."
      ],
      "metadata": {
        "id": "8TFjXfLJFxdX"
      }
    },
    {
      "cell_type": "code",
      "source": [
        "#Write a Python program to print \"Hello, World!\n",
        "print(\"hello world\")"
      ],
      "metadata": {
        "colab": {
          "base_uri": "https://localhost:8080/"
        },
        "id": "1YNtDjuiG86V",
        "outputId": "a59ec591-d2e8-4f2e-9c6c-003b7e4bd3da"
      },
      "execution_count": null,
      "outputs": [
        {
          "output_type": "stream",
          "name": "stdout",
          "text": [
            "hello world\n"
          ]
        }
      ]
    },
    {
      "cell_type": "code",
      "source": [
        "#Write a Python program that displays your name and age'\n",
        "print(\"my name is {pavan parihar} and i am {26} years old.\")"
      ],
      "metadata": {
        "colab": {
          "base_uri": "https://localhost:8080/"
        },
        "id": "qQog2InXIxX3",
        "outputId": "54143cfc-a28d-49a0-dbc4-ba0c4165bb49"
      },
      "execution_count": null,
      "outputs": [
        {
          "output_type": "stream",
          "name": "stdout",
          "text": [
            "my name is {pavan parihar} and i am {26} years old.\n"
          ]
        }
      ]
    },
    {
      "cell_type": "code",
      "source": [
        "import keyword\n",
        "\n",
        "#Write code to print all the pre-defined keywords in Python using the keyword library\n",
        "print(keyword.kwlist)\n"
      ],
      "metadata": {
        "colab": {
          "base_uri": "https://localhost:8080/"
        },
        "id": "OJBxR8sGmLob",
        "outputId": "a069ed25-c10d-4093-e2c0-9ea05f6a62bf"
      },
      "execution_count": null,
      "outputs": [
        {
          "output_type": "stream",
          "name": "stdout",
          "text": [
            "['False', 'None', 'True', 'and', 'as', 'assert', 'async', 'await', 'break', 'class', 'continue', 'def', 'del', 'elif', 'else', 'except', 'finally', 'for', 'from', 'global', 'if', 'import', 'in', 'is', 'lambda', 'nonlocal', 'not', 'or', 'pass', 'raise', 'return', 'try', 'while', 'with', 'yield']\n"
          ]
        }
      ]
    },
    {
      "cell_type": "code",
      "source": [
        "#Write a program that checks if a given word is a Python keyword\n",
        "import keyword\n",
        "\n",
        "def is_python_keyword(word):\n",
        "    return word in keyword.kwlist\n",
        "\n",
        "# Example usage\n",
        "word = input(\"Enter a word: \")\n",
        "if is_python_keyword(word):\n",
        "    print(f\"'{word}' is a Python keyword.\")\n",
        "else:\n",
        "    print(f\"'{word}' is not a Python keyword.\")\n"
      ],
      "metadata": {
        "colab": {
          "base_uri": "https://localhost:8080/"
        },
        "id": "9_fIz5ZGv8xk",
        "outputId": "9cd12d55-9b00-4765-a2da-6440e0c3261f"
      },
      "execution_count": 3,
      "outputs": [
        {
          "output_type": "stream",
          "name": "stdout",
          "text": [
            "Enter a word: if\n",
            "'if' is a Python keyword.\n"
          ]
        }
      ]
    },
    {
      "cell_type": "code",
      "source": [
        "#Create a list and tuple in Python, and demonstrate how attempting to change an element works differently\n",
        "#foe each\n",
        "# Creating a list\n",
        "my_list = [1, 2, 3, 4, 5]\n",
        "print(\"Original List:\", my_list)\n",
        "\n",
        "# Attempting to change an element in the list\n",
        "my_list[2] = 10\n",
        "print(\"Modified List:\", my_list)\n",
        "\n",
        "# Creating a tuple\n",
        "my_tuple = (1, 2, 3, 4, 5)\n",
        "print(\"Original Tuple:\", my_tuple)\n",
        "\n",
        "# Attempting to change an element in the tuple (This will raise an error)\n",
        "try:\n",
        "    my_tuple[2] = 10\n",
        "except TypeError as e:\n",
        "    print(\"Error while modifying tuple:\", e)\n"
      ],
      "metadata": {
        "colab": {
          "base_uri": "https://localhost:8080/"
        },
        "id": "DpsJBJUBxbbF",
        "outputId": "23a80725-f723-4e53-d83c-02e7559d46a0"
      },
      "execution_count": 4,
      "outputs": [
        {
          "output_type": "stream",
          "name": "stdout",
          "text": [
            "Original List: [1, 2, 3, 4, 5]\n",
            "Modified List: [1, 2, 10, 4, 5]\n",
            "Original Tuple: (1, 2, 3, 4, 5)\n",
            "Error while modifying tuple: 'tuple' object does not support item assignment\n"
          ]
        }
      ]
    },
    {
      "cell_type": "code",
      "source": [
        "#Write a function to demonstrate the behavior of mutable and immutable arguments\n",
        "def demonstrate_mutable_immutable(mutable_arg, immutable_arg):\n",
        "    # Modifying mutable argument (list)\n",
        "    mutable_arg.append(4)\n",
        "    print(\"Inside function (mutable_arg):\", mutable_arg)\n",
        "\n",
        "    # Modifying immutable argument (integer)\n",
        "    immutable_arg += 1\n",
        "    print(\"Inside function (immutable_arg):\", immutable_arg)\n",
        "\n",
        "# Creating a mutable and an immutable object\n",
        "my_list = [1, 2, 3]\n",
        "my_int = 10\n",
        "\n",
        "# Calling the function with the mutable and immutable arguments\n",
        "print(\"Before function call:\")\n",
        "print(\"my_list:\", my_list)\n",
        "print(\"my_int:\", my_int)\n",
        "\n",
        "demonstrate_mutable_immutable(my_list, my_int)\n",
        "\n",
        "# Checking the values after function call\n",
        "print(\"\\nAfter function call:\")\n",
        "print(\"my_list:\", my_list)  # Mutable object should reflect the changes\n",
        "print(\"my_int:\", my_int)    # Immutable object should not change\n",
        "\n"
      ],
      "metadata": {
        "colab": {
          "base_uri": "https://localhost:8080/"
        },
        "id": "YQa1upkEyEvV",
        "outputId": "fe6fc0ba-f682-426a-a2ff-5ce987cd9a90"
      },
      "execution_count": 5,
      "outputs": [
        {
          "output_type": "stream",
          "name": "stdout",
          "text": [
            "Before function call:\n",
            "my_list: [1, 2, 3]\n",
            "my_int: 10\n",
            "Inside function (mutable_arg): [1, 2, 3, 4]\n",
            "Inside function (immutable_arg): 11\n",
            "\n",
            "After function call:\n",
            "my_list: [1, 2, 3, 4]\n",
            "my_int: 10\n"
          ]
        }
      ]
    },
    {
      "cell_type": "code",
      "source": [
        "#Write a function to demonstrate the behavior of mutable and immutable arguments\n",
        "def demonstrate_mutable_immutable(mutable_arg, immutable_arg):\n",
        "    # Modifying mutable argument (list)\n",
        "    mutable_arg.append(4)\n",
        "    print(\"Inside function (mutable_arg):\", mutable_arg)\n",
        "\n",
        "    # Modifying immutable argument (integer)\n",
        "    immutable_arg += 1\n",
        "    print(\"Inside function (immutable_arg):\", immutable_arg)\n",
        "\n",
        "# Creating a mutable and an immutable object\n",
        "my_list = [1, 2, 3]\n",
        "my_int = 10\n",
        "\n",
        "# Before function call\n",
        "print(\"Before function call:\")\n",
        "print(\"my_list:\", my_list)\n",
        "print(\"my_int:\", my_int)\n",
        "\n",
        "# Calling the function with the mutable and immutable arguments\n",
        "demonstrate_mutable_immutable(my_list, my_int)\n",
        "\n",
        "# After function call\n",
        "print(\"\\nAfter function call:\")\n",
        "print(\"my_list:\", my_list)  # Mutable object should reflect the changes\n",
        "print(\"my_int:\", my_int)    # Immutable object should remain unchanged\n"
      ],
      "metadata": {
        "colab": {
          "base_uri": "https://localhost:8080/"
        },
        "id": "3Xn4YS8LySqJ",
        "outputId": "d2244f7a-786c-44da-c905-b56cc1931438"
      },
      "execution_count": 6,
      "outputs": [
        {
          "output_type": "stream",
          "name": "stdout",
          "text": [
            "Before function call:\n",
            "my_list: [1, 2, 3]\n",
            "my_int: 10\n",
            "Inside function (mutable_arg): [1, 2, 3, 4]\n",
            "Inside function (immutable_arg): 11\n",
            "\n",
            "After function call:\n",
            "my_list: [1, 2, 3, 4]\n",
            "my_int: 10\n"
          ]
        }
      ]
    },
    {
      "cell_type": "code",
      "source": [
        "#Write a program to demonstrate the use of logical operators\n",
        "def logical_operators_demo(x, y):\n",
        "    # Demonstrating 'and' operator\n",
        "    print(f\"{x} and {y} is {x and y}\")\n",
        "\n",
        "    # Demonstrating 'or' operator\n",
        "    print(f\"{x} or {y} is {x or y}\")\n",
        "\n",
        "    # Demonstrating 'not' operator\n",
        "    print(f\"not {x} is {not x}\")\n",
        "    print(f\"not {y} is {not y}\")\n",
        "\n",
        "# Example usage\n",
        "x = True\n",
        "y = False\n",
        "\n",
        "print(\"Using logical operators on x = True and y = False:\")\n",
        "logical_operators_demo(x, y)\n",
        "\n",
        "# Another example with both True values\n",
        "x = True\n",
        "y = True\n",
        "print(\"\\nUsing logical operators on x = True and y = True:\")\n",
        "logical_operators_demo(x, y)\n",
        "\n",
        "# Example with both False values\n",
        "x = False\n",
        "y = False\n",
        "print(\"\\nUsing logical operators on x = False and y = False:\")\n",
        "logical_operators_demo(x, y)\n"
      ],
      "metadata": {
        "colab": {
          "base_uri": "https://localhost:8080/"
        },
        "id": "5llMx22nygP_",
        "outputId": "ab4d3669-0aa2-4f9e-e5e9-d7388b030867"
      },
      "execution_count": 7,
      "outputs": [
        {
          "output_type": "stream",
          "name": "stdout",
          "text": [
            "Using logical operators on x = True and y = False:\n",
            "True and False is False\n",
            "True or False is True\n",
            "not True is False\n",
            "not False is True\n",
            "\n",
            "Using logical operators on x = True and y = True:\n",
            "True and True is True\n",
            "True or True is True\n",
            "not True is False\n",
            "not True is False\n",
            "\n",
            "Using logical operators on x = False and y = False:\n",
            "False and False is False\n",
            "False or False is False\n",
            "not False is True\n",
            "not False is True\n"
          ]
        }
      ]
    },
    {
      "cell_type": "code",
      "source": [
        "#Write a Python program to convert user input from string to integer, float, and boolean types0\n",
        "def convert_input():\n",
        "    # Taking user input as a string\n",
        "    user_input = input(\"Enter a value: \")\n",
        "\n",
        "    # Converting the input to an integer\n",
        "    try:\n",
        "        int_value = int(user_input)\n",
        "        print(f\"The integer value is: {int_value}\")\n",
        "    except ValueError:\n",
        "        print(\"The input is not a valid integer.\")\n",
        "\n",
        "    # Converting the input to a float\n",
        "    try:\n",
        "        float_value = float(user_input)\n",
        "        print(f\"The float value is: {float_value}\")\n",
        "    except ValueError:\n",
        "        print(\"The input is not a valid float.\")\n",
        "\n",
        "    # Converting the input to a boolean\n",
        "    # Non-empty strings are considered True, empty string is considered False\n",
        "    bool_value = bool(user_input)\n",
        "    print(f\"The boolean value is: {bool_value}\")\n",
        "\n",
        "# Call the function to execute\n",
        "convert_input()\n",
        "5"
      ],
      "metadata": {
        "colab": {
          "base_uri": "https://localhost:8080/"
        },
        "id": "GxgH1vNfyuXi",
        "outputId": "ef2d9466-06b3-4b82-f6ab-5faf9b626bf8"
      },
      "execution_count": 9,
      "outputs": [
        {
          "output_type": "stream",
          "name": "stdout",
          "text": [
            "Enter a value: 5\n",
            "The integer value is: 5\n",
            "The float value is: 5.0\n",
            "The boolean value is: True\n"
          ]
        },
        {
          "output_type": "execute_result",
          "data": {
            "text/plain": [
              "5"
            ]
          },
          "metadata": {},
          "execution_count": 9
        }
      ]
    },
    {
      "cell_type": "code",
      "source": [
        "#Write code to demonstrate type casting with list elements\n",
        "def type_casting_demo():\n",
        "    # Original list with string elements\n",
        "    my_list = [\"1\", \"2.5\", \"True\", \"3\", \"4.0\"]\n",
        "\n",
        "    print(\"Original List:\", my_list)\n",
        "\n",
        "    # Convert string elements to integer, float, and boolean types\n",
        "    int_list = [int(item) if item.isdigit() else 0 for item in my_list]\n",
        "    float_list = [float(item) if '.' in item else 0.0 for item in my_list]\n",
        "    bool_list = [bool(item) for item in my_list]  # Any non-empty string becomes True\n",
        "\n",
        "    print(\"\\nList after converting string elements to integers:\", int_list)\n",
        "    print(\"List after converting string elements to floats:\", float_list)\n",
        "    print(\"List after converting string elements to booleans:\", bool_list)\n",
        "\n",
        "# Call the function to demonstrate\n",
        "type_casting_demo()\n"
      ],
      "metadata": {
        "colab": {
          "base_uri": "https://localhost:8080/"
        },
        "id": "ZWH4ym2ly4uH",
        "outputId": "5b763cbf-1c3a-4c5a-f6b5-e83a7a61339d"
      },
      "execution_count": 10,
      "outputs": [
        {
          "output_type": "stream",
          "name": "stdout",
          "text": [
            "Original List: ['1', '2.5', 'True', '3', '4.0']\n",
            "\n",
            "List after converting string elements to integers: [1, 0, 0, 3, 0]\n",
            "List after converting string elements to floats: [0.0, 2.5, 0.0, 0.0, 4.0]\n",
            "List after converting string elements to booleans: [True, True, True, True, True]\n"
          ]
        }
      ]
    },
    {
      "cell_type": "code",
      "source": [
        "#Write a program that checks if a number is positive, negative, or zero\n",
        "def check_number():\n",
        "    # Taking input from the user\n",
        "    number = float(input(\"Enter a number: \"))\n",
        "\n",
        "    # Checking if the number is positive, negative, or zero\n",
        "    if number > 0:\n",
        "        print(\"The number is positive.\")\n",
        "    elif number < 0:\n",
        "        print(\"The number is negative.\")\n",
        "    else:\n",
        "        print(\"The number is zero.\")\n",
        "\n",
        "# Calling the function to execute the check\n",
        "check_number()\n"
      ],
      "metadata": {
        "colab": {
          "base_uri": "https://localhost:8080/"
        },
        "id": "c6XPAnYVzVnL",
        "outputId": "6d96fa08-a734-4246-cc43-a803674d13be"
      },
      "execution_count": 11,
      "outputs": [
        {
          "output_type": "stream",
          "name": "stdout",
          "text": [
            "Enter a number: 2\n",
            "The number is positive.\n"
          ]
        }
      ]
    },
    {
      "cell_type": "code",
      "source": [
        "# Write a for loop to print numbers from 1 to 100\n",
        "# Using a for loop to print numbers from 1 to 100\n",
        "for i in range(1, 101):\n",
        "    print(i)\n"
      ],
      "metadata": {
        "colab": {
          "base_uri": "https://localhost:8080/"
        },
        "id": "8LX-0A_nzfKH",
        "outputId": "034c1dec-268c-4a5c-b6fa-928efbcd3767"
      },
      "execution_count": 12,
      "outputs": [
        {
          "output_type": "stream",
          "name": "stdout",
          "text": [
            "1\n",
            "2\n",
            "3\n",
            "4\n",
            "5\n",
            "6\n",
            "7\n",
            "8\n",
            "9\n",
            "10\n",
            "11\n",
            "12\n",
            "13\n",
            "14\n",
            "15\n",
            "16\n",
            "17\n",
            "18\n",
            "19\n",
            "20\n",
            "21\n",
            "22\n",
            "23\n",
            "24\n",
            "25\n",
            "26\n",
            "27\n",
            "28\n",
            "29\n",
            "30\n",
            "31\n",
            "32\n",
            "33\n",
            "34\n",
            "35\n",
            "36\n",
            "37\n",
            "38\n",
            "39\n",
            "40\n",
            "41\n",
            "42\n",
            "43\n",
            "44\n",
            "45\n",
            "46\n",
            "47\n",
            "48\n",
            "49\n",
            "50\n",
            "51\n",
            "52\n",
            "53\n",
            "54\n",
            "55\n",
            "56\n",
            "57\n",
            "58\n",
            "59\n",
            "60\n",
            "61\n",
            "62\n",
            "63\n",
            "64\n",
            "65\n",
            "66\n",
            "67\n",
            "68\n",
            "69\n",
            "70\n",
            "71\n",
            "72\n",
            "73\n",
            "74\n",
            "75\n",
            "76\n",
            "77\n",
            "78\n",
            "79\n",
            "80\n",
            "81\n",
            "82\n",
            "83\n",
            "84\n",
            "85\n",
            "86\n",
            "87\n",
            "88\n",
            "89\n",
            "90\n",
            "91\n",
            "92\n",
            "93\n",
            "94\n",
            "95\n",
            "96\n",
            "97\n",
            "98\n",
            "99\n",
            "100\n"
          ]
        }
      ]
    },
    {
      "cell_type": "code",
      "source": [
        "#0 Write a Python program to find the sum of all even numbers between 1 and 500\n",
        "def sum_of_even_numbers():\n",
        "    # Initialize the sum variable\n",
        "    total_sum = 0\n",
        "\n",
        "    # Loop through numbers from 1 to 500\n",
        "    for number in range(1, 501):\n",
        "        if number % 2 == 0:  # Check if the number is even\n",
        "            total_sum += number  # Add the even number to the sum\n",
        "\n",
        "    return total_sum\n",
        "\n",
        "# Call the function and print the result\n",
        "result = sum_of_even_numbers()\n",
        "print(\"The sum of all even numbers between 1 and 500 is:\", result)\n"
      ],
      "metadata": {
        "colab": {
          "base_uri": "https://localhost:8080/"
        },
        "id": "pjDvpHHeztA-",
        "outputId": "2b6b27e5-53e9-4da6-bc1f-85556f758041"
      },
      "execution_count": 13,
      "outputs": [
        {
          "output_type": "stream",
          "name": "stdout",
          "text": [
            "The sum of all even numbers between 1 and 500 is: 62750\n"
          ]
        }
      ]
    },
    {
      "cell_type": "code",
      "source": [
        "#Write a program to reverse a string using a while loop\n",
        "def reverse_string(input_string):\n",
        "    # Initialize an empty string to store the reversed string\n",
        "    reversed_string = \"\"\n",
        "\n",
        "    # Set an index to the last character of the input string\n",
        "    index = len(input_string) - 1\n",
        "\n",
        "    # Use a while loop to go through the string in reverse order\n",
        "    while index >= 0:\n",
        "        # Add the character at the current index to the reversed string\n",
        "        reversed_string += input_string[index]\n",
        "        # Move to the previous character\n",
        "        index -= 1\n",
        "\n",
        "    return reversed_string\n",
        "\n",
        "# Input string\n",
        "user_input = input(\"Enter a string: \")\n",
        "\n",
        "# Call the function and print the reversed string\n",
        "reversed_str = reverse_string(user_input)\n",
        "print(\"Reversed string:\", reversed_str)\n"
      ],
      "metadata": {
        "colab": {
          "base_uri": "https://localhost:8080/"
        },
        "id": "aI9VsOQLz22k",
        "outputId": "529f8cd7-57b7-4226-b49f-47baa1a75100"
      },
      "execution_count": 16,
      "outputs": [
        {
          "output_type": "stream",
          "name": "stdout",
          "text": [
            "Enter a string: pavan\n",
            "Reversed string: navap\n"
          ]
        }
      ]
    },
    {
      "cell_type": "code",
      "source": [
        "#Write a Python program to calculate the factorial of a number provided by the user using a while loop.\n",
        "def calculate_factorial():\n",
        "    # Get user input and convert it to an integer\n",
        "    num = int(input(\"Enter a number to calculate its factorial: \"))\n",
        "\n",
        "    # Initialize factorial result\n",
        "    factorial = 1\n",
        "\n",
        "    # Check if the number is negative, as factorial is not defined for negative numbers\n",
        "    if num < 0:\n",
        "        print(\"Factorial is not defined for negative numbers.\")\n",
        "        return\n",
        "\n",
        "    # Calculate factorial using a while loop\n",
        "    while num > 1:\n",
        "        factorial *= num  # Multiply factorial by the current number\n",
        "        num -= 1  # Decrease the number\n",
        "\n",
        "    # Display the result\n",
        "    print(f\"The factorial is: {factorial}\")\n",
        "\n",
        "# Call the function\n",
        "calculate_factorial()\n"
      ],
      "metadata": {
        "colab": {
          "base_uri": "https://localhost:8080/"
        },
        "id": "1VUQPKGEz_Tg",
        "outputId": "6a76269a-512d-451d-ea48-c5e634cfd23e"
      },
      "execution_count": 17,
      "outputs": [
        {
          "output_type": "stream",
          "name": "stdout",
          "text": [
            "Enter a number to calculate its factorial: 1\n",
            "The factorial is: 1\n"
          ]
        }
      ]
    }
  ]
}